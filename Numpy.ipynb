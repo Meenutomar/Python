{
  "nbformat": 4,
  "nbformat_minor": 0,
  "metadata": {
    "colab": {
      "provenance": [],
      "authorship_tag": "ABX9TyMIdmdT83MtEmwUQ/qDpaVI",
      "include_colab_link": true
    },
    "kernelspec": {
      "name": "python3",
      "display_name": "Python 3"
    },
    "language_info": {
      "name": "python"
    }
  },
  "cells": [
    {
      "cell_type": "markdown",
      "metadata": {
        "id": "view-in-github",
        "colab_type": "text"
      },
      "source": [
        "<a href=\"https://colab.research.google.com/github/Meenutomar/Python/blob/main/Numpy.ipynb\" target=\"_parent\"><img src=\"https://colab.research.google.com/assets/colab-badge.svg\" alt=\"Open In Colab\"/></a>"
      ]
    },
    {
      "cell_type": "code",
      "execution_count": 7,
      "metadata": {
        "colab": {
          "base_uri": "https://localhost:8080/"
        },
        "id": "X2qOzJpgdKlp",
        "outputId": "0434c87f-9569-497a-dc44-b2b6ee78370a"
      },
      "outputs": [
        {
          "output_type": "stream",
          "name": "stdout",
          "text": [
            "[1, 2, 'hello']\n",
            "[1 2 3]\n",
            "____________________________________\n",
            "[5 7 9]\n",
            "[-3 -3 -3]\n",
            "[ 4 10 18]\n",
            "[0.25 0.4  0.5 ]\n",
            "[  1  32 729]\n",
            "[1 2 3]\n",
            "____________________________________\n"
          ]
        }
      ],
      "source": [
        "#numpy\n",
        "#diff btw lists and arrays in python\n",
        "\n",
        "#data types storage\n",
        "l = [1,2,\"hello\"] #multiple data\n",
        "print(l)\n",
        "\n",
        "#impoting module\n",
        "import numpy as np\n",
        "\n",
        "#creating arrays\n",
        "a = np.array([1,2,3])\n",
        "print(a)\n",
        "\n",
        "print(\"____________________________________\")\n",
        "#numerical operaions\n",
        "a = np.array([1,2,3])\n",
        "b = np.array([4,5,6])\n",
        "print(a+b)\n",
        "print(a-b)\n",
        "print(a*b)\n",
        "print(a/b)\n",
        "print(a**b)\n",
        "print(a%b)\n",
        "\n",
        "\n",
        "print(\"____________________________________\")\n",
        "#modification\n",
        "\n",
        "#Consumes less memory\n",
        "#fast as compared to the python list\n",
        "#convenient to use\n",
        "\n"
      ]
    },
    {
      "cell_type": "code",
      "source": [
        "%timeit [j**4 for j in range(1,9)] #for time check\n"
      ],
      "metadata": {
        "colab": {
          "base_uri": "https://localhost:8080/"
        },
        "id": "imK4WydCfu6u",
        "outputId": "f6e6cc06-3a50-4118-c5dc-19777cc147ca"
      },
      "execution_count": 8,
      "outputs": [
        {
          "output_type": "stream",
          "name": "stdout",
          "text": [
            "2.6 µs ± 32 ns per loop (mean ± std. dev. of 7 runs, 100000 loops each)\n"
          ]
        }
      ]
    },
    {
      "cell_type": "markdown",
      "source": [
        "Array\n"
      ],
      "metadata": {
        "id": "z16ipJTghsed"
      }
    },
    {
      "cell_type": "code",
      "source": [
        "\n",
        "#how to create Array\n",
        "import numpy as np\n",
        "a = np.array([1,3,4,55])\n",
        "print(a)\n",
        "\n",
        "b = np.array([[1,2,3],[4,5,6]])\n",
        "print(b)"
      ],
      "metadata": {
        "colab": {
          "base_uri": "https://localhost:8080/"
        },
        "id": "pQzrpMxzgwyb",
        "outputId": "1fec2991-24ce-47b7-cdc6-c2a71d9a8f26"
      },
      "execution_count": 12,
      "outputs": [
        {
          "output_type": "stream",
          "name": "stdout",
          "text": [
            "[ 1  3  4 55]\n",
            "[[1 2 3]\n",
            " [4 5 6]]\n"
          ]
        }
      ]
    },
    {
      "cell_type": "code",
      "source": [
        "import numpy as np\n",
        "x = [1,2,3,4]\n",
        "y = np.array([1,2,3,4,5])\n",
        "print(x)\n",
        "print(type(x))\n",
        "print(\"_____________________________________\")\n",
        "print(y)\n",
        "print(type(y))\n"
      ],
      "metadata": {
        "colab": {
          "base_uri": "https://localhost:8080/"
        },
        "id": "0rf0-kRljNqn",
        "outputId": "5b57cc03-45a0-4393-9593-4feeaff7b414"
      },
      "execution_count": 14,
      "outputs": [
        {
          "output_type": "stream",
          "name": "stdout",
          "text": [
            "[1, 2, 3, 4]\n",
            "<class 'list'>\n",
            "_____________________________________\n",
            "[1 2 3 4 5]\n",
            "<class 'numpy.ndarray'>\n"
          ]
        }
      ]
    },
    {
      "cell_type": "code",
      "source": [
        "l = []\n",
        "for i in range (1,7):\n",
        "  int_1 = int(input(\"enter the value: \"))# get data from user\n",
        "  l.append(int_1) # add in list\n",
        "print(np.array(l))\n"
      ],
      "metadata": {
        "colab": {
          "base_uri": "https://localhost:8080/"
        },
        "id": "4qoiLk5Dh-hw",
        "outputId": "8eba0441-0e02-4fec-9346-9fd0111c1f9b"
      },
      "execution_count": 17,
      "outputs": [
        {
          "output_type": "stream",
          "name": "stdout",
          "text": [
            "enter the value: 12\n",
            "enter the value: 34\n",
            "enter the value: 23\n",
            "enter the value: 2\n",
            "enter the value: 4\n",
            "enter the value: 23\n",
            "[12 34 23  2  4 23]\n"
          ]
        }
      ]
    },
    {
      "cell_type": "markdown",
      "source": [
        "Types of Array\n",
        "\n",
        "1-D Array [ ]\n",
        "\n",
        "2-D Array[[ ]]\n",
        "\n",
        "3-D Array[[[ ] ]]\n",
        "\n",
        "Higher D Arrays\n"
      ],
      "metadata": {
        "id": "RJUBQjNgwyiG"
      }
    },
    {
      "cell_type": "code",
      "source": [
        "import numpy as np\n",
        "are2 = np.array([[1,2,3],[4,5,6]])#2d Array\n",
        "print(are2)\n",
        "print(are2.ndim)"
      ],
      "metadata": {
        "colab": {
          "base_uri": "https://localhost:8080/"
        },
        "id": "zM7rsrAZw2YN",
        "outputId": "3466b7b7-a781-4df2-a42d-164466376f92"
      },
      "execution_count": 2,
      "outputs": [
        {
          "output_type": "stream",
          "name": "stdout",
          "text": [
            "[[1 2 3]\n",
            " [4 5 6]]\n",
            "2\n"
          ]
        }
      ]
    },
    {
      "cell_type": "code",
      "source": [
        "import numpy as np\n",
        "are3 = np.array([[[1,2,3],[4,5,6],[7,8,9]]])#3d Array\n",
        "print(are3)\n",
        "print(are3.ndim)#array type"
      ],
      "metadata": {
        "colab": {
          "base_uri": "https://localhost:8080/"
        },
        "id": "aROI-yRnatEg",
        "outputId": "b033351f-614a-43ef-8d14-762887ab51e1"
      },
      "execution_count": 4,
      "outputs": [
        {
          "output_type": "stream",
          "name": "stdout",
          "text": [
            "[[[1 2 3]\n",
            "  [4 5 6]\n",
            "  [7 8 9]]]\n",
            "3\n"
          ]
        }
      ]
    },
    {
      "cell_type": "code",
      "source": [],
      "metadata": {
        "id": "DABLQNKja3G1"
      },
      "execution_count": null,
      "outputs": []
    },
    {
      "cell_type": "markdown",
      "source": [
        "Create Numpy Array Using Numpy functions\n"
      ],
      "metadata": {
        "id": "XzgPvwIwb-Jb"
      }
    },
    {
      "cell_type": "code",
      "source": [
        "#Array filled with O\n",
        "import numpy as np\n",
        "print(\"1-D array with 0\")\n",
        "a = np.zeros(4)\n",
        "print(a)\n",
        "print(\"----------------------------------------------------\")\n",
        "b = np.zeros((3,4))\n",
        "print(b)\n",
        "print(\"___________________________________________\")\n",
        "c = np.zeros((3,4,2))\n",
        "print(c)\n",
        "print(\"___________________________________________\")\n",
        "#Array filled with 1's\n",
        "import numpy as np\n",
        "a = np.ones(4)# using ones functions\n",
        "print(a)\n",
        "print(\"----------------------------------------------------\")\n",
        "b = np.ones((3,4))\n",
        "print(b)\n",
        "print(\"___________________________________________\")\n",
        "c = np.ones((3,4,2))\n",
        "print(c)\n",
        "print(\"___________________________________________\")\n",
        "#Array filled with range\n",
        "import numpy as np\n",
        "a = np.arange(4)\n",
        "print(a)\n",
        "print(\"----------------------------------------------------\")\n",
        "print(\"range\")\n",
        "b = np.arange(1,10)\n",
        "print(b)\n",
        "print(\"___________________________________________\")\n",
        "b = np.arange(1,10,2)\n",
        "print(b)\n",
        "print(\"___________________________________________\")\n",
        "#Array filled with random numbers\n",
        "import numpy as np\n",
        "a = np.random.randint(1,10,3)\n",
        "print(a)\n",
        "print(\"----------------------------------------------------\")\n",
        "b = np.random.randint(1,10,3)\n",
        "print(b)\n",
        "print(\"___________________________________________\")\n",
        "#Create an empty array\n",
        "import numpy as np\n",
        "a = np.empty(4)\n",
        "print(a)\n",
        "print(\"----------------------------------------------------\")\n",
        "b = np.empty((3,4))\n",
        "print(b)\n",
        "print(\"___________________________________________\")\n",
        "#Array diagonal element filled with 1's\n",
        "import numpy as np\n",
        "a = np.eye(3)\n",
        "\n",
        "print(a)\n",
        "print(\"----------------------------------------------------\")\n",
        "b = np.eye(3,4)\n",
        "print(b)\n",
        "print(\"___________________________________________\")\n",
        "#Array filled with specific value\n",
        "import numpy as np\n",
        "a = np.full(4,5)\n",
        "print(a)\n",
        "print(\"----------------------------------------------------\")\n",
        "b = np.full((3,4),5)\n",
        "print(b)\n",
        "print(\"___________________________________________\")\n",
        "\n",
        "#create an array with values that are spaced Linearly in a specified interval\n",
        "ar_dia = np.linspace(0,10,num=5)\n",
        "print(\" spaced Linearl\")\n",
        "print(ar_dia)"
      ],
      "metadata": {
        "colab": {
          "base_uri": "https://localhost:8080/"
        },
        "id": "rH3myPM4cF11",
        "outputId": "175edef6-7209-4c80-a4dd-3a5fff5d20d0"
      },
      "execution_count": 14,
      "outputs": [
        {
          "output_type": "stream",
          "name": "stdout",
          "text": [
            "1-D array with 0\n",
            "[0. 0. 0. 0.]\n",
            "----------------------------------------------------\n",
            "[[0. 0. 0. 0.]\n",
            " [0. 0. 0. 0.]\n",
            " [0. 0. 0. 0.]]\n",
            "___________________________________________\n",
            "[[[0. 0.]\n",
            "  [0. 0.]\n",
            "  [0. 0.]\n",
            "  [0. 0.]]\n",
            "\n",
            " [[0. 0.]\n",
            "  [0. 0.]\n",
            "  [0. 0.]\n",
            "  [0. 0.]]\n",
            "\n",
            " [[0. 0.]\n",
            "  [0. 0.]\n",
            "  [0. 0.]\n",
            "  [0. 0.]]]\n",
            "___________________________________________\n",
            "[1. 1. 1. 1.]\n",
            "----------------------------------------------------\n",
            "[[1. 1. 1. 1.]\n",
            " [1. 1. 1. 1.]\n",
            " [1. 1. 1. 1.]]\n",
            "___________________________________________\n",
            "[[[1. 1.]\n",
            "  [1. 1.]\n",
            "  [1. 1.]\n",
            "  [1. 1.]]\n",
            "\n",
            " [[1. 1.]\n",
            "  [1. 1.]\n",
            "  [1. 1.]\n",
            "  [1. 1.]]\n",
            "\n",
            " [[1. 1.]\n",
            "  [1. 1.]\n",
            "  [1. 1.]\n",
            "  [1. 1.]]]\n",
            "___________________________________________\n",
            "[0 1 2 3]\n",
            "----------------------------------------------------\n",
            "range\n",
            "[1 2 3 4 5 6 7 8 9]\n",
            "___________________________________________\n",
            "[1 3 5 7 9]\n",
            "___________________________________________\n",
            "[8 6 2]\n",
            "----------------------------------------------------\n",
            "[2 5 3]\n",
            "___________________________________________\n",
            "[0.0e+000 4.9e-324 9.9e-324 1.5e-323]\n",
            "----------------------------------------------------\n",
            "[[1. 1. 1. 1.]\n",
            " [1. 1. 1. 1.]\n",
            " [1. 1. 1. 1.]]\n",
            "___________________________________________\n",
            "[[1. 0. 0.]\n",
            " [0. 1. 0.]\n",
            " [0. 0. 1.]]\n",
            "----------------------------------------------------\n",
            "[[1. 0. 0. 0.]\n",
            " [0. 1. 0. 0.]\n",
            " [0. 0. 1. 0.]]\n",
            "___________________________________________\n",
            "[5 5 5 5]\n",
            "----------------------------------------------------\n",
            "[[5 5 5 5]\n",
            " [5 5 5 5]\n",
            " [5 5 5 5]]\n",
            "___________________________________________\n",
            " spaced Linearl\n",
            "[ 0.   2.5  5.   7.5 10. ]\n"
          ]
        }
      ]
    },
    {
      "cell_type": "markdown",
      "source": [
        "create numpy Arrays with random Numbers"
      ],
      "metadata": {
        "id": "MUK1QTXwhIJi"
      }
    },
    {
      "cell_type": "code",
      "source": [
        "#rand() the function is used to genrate 1 to 0\n",
        "import numpy as np\n",
        "a = np.random.rand(5)\n",
        "print(\"1-D array\")\n",
        "print(a)\n",
        ""
      ],
      "metadata": {
        "colab": {
          "base_uri": "https://localhost:8080/"
        },
        "id": "vrNVdrsmhW_2",
        "outputId": "5840175d-18ba-40fe-d87a-8cac5801f733"
      },
      "execution_count": 16,
      "outputs": [
        {
          "output_type": "stream",
          "name": "stdout",
          "text": [
            "1-D array\n",
            "[0.9731781  0.40098223 0.96581973 0.39370715 0.6776783 ]\n"
          ]
        }
      ]
    },
    {
      "cell_type": "markdown",
      "source": [
        "Randn()\n"
      ],
      "metadata": {
        "id": "YXMul9vviXeL"
      }
    },
    {
      "cell_type": "code",
      "source": [
        "var = np.random.randn(5)# its provide - values\n",
        "print(var)\n",
        "\n",
        "\n"
      ],
      "metadata": {
        "colab": {
          "base_uri": "https://localhost:8080/"
        },
        "id": "bCOGvv9jhiqp",
        "outputId": "9a1810b0-1109-4bc9-bea2-80b445e44858"
      },
      "execution_count": 18,
      "outputs": [
        {
          "output_type": "stream",
          "name": "stdout",
          "text": [
            "[-0.4295981   1.17749014  1.1270973  -1.07827754 -0.49579186]\n"
          ]
        }
      ]
    },
    {
      "cell_type": "markdown",
      "source": [
        "ranf() the functin for doing random sampling in numpy it returns an array of specified shapes and fills it with random floats in the half interval(0,0,1,0)\n"
      ],
      "metadata": {
        "id": "nUpmztddiuq4"
      }
    },
    {
      "cell_type": "code",
      "source": [
        "var1 = np.random.ranf(5)\n",
        "print(var1)"
      ],
      "metadata": {
        "colab": {
          "base_uri": "https://localhost:8080/"
        },
        "id": "G1S1VN0ajhgQ",
        "outputId": "246f6c4c-21e0-4897-f622-f9328e282b7e"
      },
      "execution_count": 20,
      "outputs": [
        {
          "output_type": "stream",
          "name": "stdout",
          "text": [
            "[0.40314538 0.7454761  0.91889636 0.86886032 0.21861599]\n"
          ]
        }
      ]
    },
    {
      "cell_type": "markdown",
      "source": [
        "rRandind() +,_ bpth value"
      ],
      "metadata": {
        "id": "12kjz7D4jy8t"
      }
    },
    {
      "cell_type": "code",
      "source": [
        "v = np.random.randint(4,10,5) # make range\n",
        "print(v)"
      ],
      "metadata": {
        "colab": {
          "base_uri": "https://localhost:8080/"
        },
        "id": "4wB3sii_kBFl",
        "outputId": "a24166fc-dea4-46ba-fb3b-7a739e4fd56c"
      },
      "execution_count": 21,
      "outputs": [
        {
          "output_type": "stream",
          "name": "stdout",
          "text": [
            "[6 9 6 7 5]\n"
          ]
        }
      ]
    },
    {
      "cell_type": "code",
      "source": [
        "v = np.random.randint(2,size=10)\n",
        "print(v)"
      ],
      "metadata": {
        "colab": {
          "base_uri": "https://localhost:8080/"
        },
        "id": "ciTAWuj4kQHJ",
        "outputId": "a546df7f-482f-45f4-f2fa-9f6c3a516bba"
      },
      "execution_count": 23,
      "outputs": [
        {
          "output_type": "stream",
          "name": "stdout",
          "text": [
            "[1 0 0 1 0 1 1 1 1 0]\n"
          ]
        }
      ]
    },
    {
      "cell_type": "markdown",
      "source": [
        "Data Type in Numpy"
      ],
      "metadata": {
        "id": "k8I69ksHlQmx"
      }
    },
    {
      "cell_type": "markdown",
      "source": [],
      "metadata": {
        "id": "artbhN9ZlL_J"
      }
    },
    {
      "cell_type": "code",
      "source": [
        "import numpy as np\n",
        "a = np.array([1,2,3,5])\n",
        "print(\"data type:\",a.dtype)"
      ],
      "metadata": {
        "colab": {
          "base_uri": "https://localhost:8080/"
        },
        "id": "qA7RvMJVltYb",
        "outputId": "7f1ce998-9886-4463-f925-fb5d26a4e739"
      },
      "execution_count": 25,
      "outputs": [
        {
          "output_type": "stream",
          "name": "stdout",
          "text": [
            "data type: int64\n"
          ]
        }
      ]
    },
    {
      "cell_type": "markdown",
      "source": [],
      "metadata": {
        "id": "Qc4irASZmtBa"
      }
    },
    {
      "cell_type": "code",
      "source": [
        "b  = np.array([1.2,3.4,5.6])\n",
        "print(\"data type:\",b.dtype)"
      ],
      "metadata": {
        "colab": {
          "base_uri": "https://localhost:8080/"
        },
        "id": "KWJlNgYkmahb",
        "outputId": "34e8d59b-90fb-40ef-fdbb-0b17de2adaf7"
      },
      "execution_count": 26,
      "outputs": [
        {
          "output_type": "stream",
          "name": "stdout",
          "text": [
            "data type: float64\n"
          ]
        }
      ]
    },
    {
      "cell_type": "code",
      "source": [
        "s = np.array([\"a\",\"b\",\"c\"])\n",
        "print(\"data type:\",s.dtype)"
      ],
      "metadata": {
        "colab": {
          "base_uri": "https://localhost:8080/"
        },
        "id": "wW59LAZamfF5",
        "outputId": "df8f0e3f-45f1-4e3b-f581-b94727431f3c"
      },
      "execution_count": 27,
      "outputs": [
        {
          "output_type": "stream",
          "name": "stdout",
          "text": [
            "data type: <U1\n"
          ]
        }
      ]
    },
    {
      "cell_type": "code",
      "source": [
        "x = np.array([\"a\",\"b\",\"c\"],dtype=\"S\")\n",
        "print(\"data type:\",x.dtype)"
      ],
      "metadata": {
        "colab": {
          "base_uri": "https://localhost:8080/"
        },
        "id": "UrjyoxMNmmbY",
        "outputId": "70a406d2-a17a-440a-9ddc-ed1e984754cd"
      },
      "execution_count": 28,
      "outputs": [
        {
          "output_type": "stream",
          "name": "stdout",
          "text": [
            "data type: |S1\n"
          ]
        }
      ]
    },
    {
      "cell_type": "code",
      "source": [
        "a = np.array([1,2,3,4],dtype=\"i4\")\n",
        "print(\"data type:\",a.dtype) #\n",
        "\n"
      ],
      "metadata": {
        "colab": {
          "base_uri": "https://localhost:8080/"
        },
        "id": "Ce5NwAbAm5TM",
        "outputId": "dd994afe-737a-43db-ebc1-1b0c72a8e1a2"
      },
      "execution_count": 29,
      "outputs": [
        {
          "output_type": "stream",
          "name": "stdout",
          "text": [
            "data type: int32\n"
          ]
        }
      ]
    },
    {
      "cell_type": "code",
      "source": [
        "x2 = np.array([1.2,3.4,5.6])\n",
        "new = x2.astype(int)\n",
        "print(new)\n",
        "print(new.dtype)\n",
        "\n"
      ],
      "metadata": {
        "colab": {
          "base_uri": "https://localhost:8080/"
        },
        "id": "fKZ-9Mt8nYon",
        "outputId": "634a91e7-7719-40fa-8687-13f2f1b12123"
      },
      "execution_count": 33,
      "outputs": [
        {
          "output_type": "stream",
          "name": "stdout",
          "text": [
            "[1 3 5]\n",
            "int64\n"
          ]
        }
      ]
    },
    {
      "cell_type": "code",
      "source": [],
      "metadata": {
        "id": "Hvn8eUrBn8B9"
      },
      "execution_count": null,
      "outputs": []
    }
  ]
}