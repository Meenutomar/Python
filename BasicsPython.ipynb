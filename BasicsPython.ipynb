{
  "nbformat": 4,
  "nbformat_minor": 0,
  "metadata": {
    "colab": {
      "provenance": [],
      "authorship_tag": "ABX9TyPyuetBSyfhCrRlsEOnR7rr",
      "include_colab_link": true
    },
    "kernelspec": {
      "name": "python3",
      "display_name": "Python 3"
    },
    "language_info": {
      "name": "python"
    }
  },
  "cells": [
    {
      "cell_type": "markdown",
      "metadata": {
        "id": "view-in-github",
        "colab_type": "text"
      },
      "source": [
        "<a href=\"https://colab.research.google.com/github/Meenutomar/Python/blob/main/BasicsPython.ipynb\" target=\"_parent\"><img src=\"https://colab.research.google.com/assets/colab-badge.svg\" alt=\"Open In Colab\"/></a>"
      ]
    },
    {
      "cell_type": "code",
      "source": [
        "#if statement\n",
        "#if statement to excute if condition is true\n",
        "a = 20\n",
        "if a >25:\n",
        "    print(\"this is the if body\")\n",
        "print(\"this is the outside the body\")"
      ],
      "metadata": {
        "colab": {
          "base_uri": "https://localhost:8080/"
        },
        "id": "W8WLA8Q-S-gp",
        "outputId": "24aa4369-5ee5-4f23-e20c-6933d92a02bd"
      },
      "execution_count": null,
      "outputs": [
        {
          "output_type": "stream",
          "name": "stdout",
          "text": [
            "this is the outside the body\n"
          ]
        }
      ]
    },
    {
      "cell_type": "code",
      "source": [],
      "metadata": {
        "id": "F2pZ-xjNr-2S"
      },
      "execution_count": null,
      "outputs": []
    },
    {
      "cell_type": "code",
      "source": [
        "# if And else\n",
        "a  = 12\n",
        "b = 13\n",
        "if a > b:\n",
        "    print(\"this is the if body\")\n",
        "else:\n",
        "    print(\"this is the else body\")"
      ],
      "metadata": {
        "colab": {
          "base_uri": "https://localhost:8080/"
        },
        "id": "lH-C5SeaSyy_",
        "outputId": "aadd5347-f869-4790-f29c-152313e0d7c3"
      },
      "execution_count": null,
      "outputs": [
        {
          "output_type": "stream",
          "name": "stdout",
          "text": [
            "this is the else body\n"
          ]
        }
      ]
    },
    {
      "cell_type": "code",
      "source": [
        "a = 20\n",
        "if a%2 ==0:\n",
        "  print(\"this is the iside the if block\")\n",
        "  print(\"this is the evenr number\")\n",
        "else:\n",
        "    print(\"this is the odd number\")"
      ],
      "metadata": {
        "colab": {
          "base_uri": "https://localhost:8080/"
        },
        "id": "m8XYiA3UUytw",
        "outputId": "4bde060d-f009-4428-b841-434bc7f1c5c8"
      },
      "execution_count": null,
      "outputs": [
        {
          "output_type": "stream",
          "name": "stdout",
          "text": [
            "this is the iside the if block\n",
            "this is the evenr number\n"
          ]
        }
      ]
    },
    {
      "cell_type": "code",
      "source": [
        "#Nested if statement\n",
        "a= 27\n",
        "if a<25:\n",
        "    if a%2 == 0:\n",
        "        print(\"a is an even number less than 25\")\n",
        "\n",
        "    else:\n",
        "        print(\"a is an odd number less than 25\")\n",
        "else:\n",
        "    print(\"a is the greater then 25\")"
      ],
      "metadata": {
        "colab": {
          "base_uri": "https://localhost:8080/"
        },
        "id": "oQrAkiGjVeKL",
        "outputId": "b929a4a6-61a8-4bbb-cccb-b75286125553"
      },
      "execution_count": null,
      "outputs": [
        {
          "output_type": "stream",
          "name": "stdout",
          "text": [
            "a is the greater then 25\n"
          ]
        }
      ]
    },
    {
      "cell_type": "code",
      "source": [
        "#if -elif-else Statement/decision Makeing\n",
        "#Syntax if(condition):\n",
        "             #statement\n",
        "#elif(condition):\n",
        "      #statement\n",
        "#else:\n",
        "     #statement\n",
        "\n",
        "#we have a number num within the range 1 to 10 in this case we need to print the\n",
        "#number is greater than 10\n",
        "\n",
        "\n"
      ],
      "metadata": {
        "id": "kNExPiYwWaPL"
      },
      "execution_count": null,
      "outputs": []
    },
    {
      "cell_type": "markdown",
      "source": [
        "if -elif-else Statement/decision Makeing"
      ],
      "metadata": {
        "id": "pfOKVolKEZJ-"
      }
    },
    {
      "cell_type": "code",
      "source": [
        "var = \"i\"\n",
        "if var == \"a\":\n",
        "    print(\"this is the vowel a\")\n",
        "elif var == \"e\":\n",
        "    print(\"this is the vowel e\")\n",
        "elif var == \"i\":\n",
        "    print(\"this is the vowel i\")\n"
      ],
      "metadata": {
        "id": "ivkspmqgET2u"
      },
      "execution_count": null,
      "outputs": []
    },
    {
      "cell_type": "code",
      "source": [
        "#write a program\n",
        "a =input(\"enter the string\")\n",
        "\n",
        "if a == \"daal\":\n",
        "    print(\"i am going to mess\")\n",
        "else:\n",
        "     print(\"i will not go to mess\")"
      ],
      "metadata": {
        "colab": {
          "base_uri": "https://localhost:8080/"
        },
        "id": "D1LKmsB-Eaw7",
        "outputId": "e371d5bd-62d7-473c-88f2-76425089c356"
      },
      "execution_count": null,
      "outputs": [
        {
          "output_type": "stream",
          "name": "stdout",
          "text": [
            "enter the stringroti\n",
            "i will not go to mess\n"
          ]
        }
      ]
    },
    {
      "cell_type": "code",
      "source": [
        "time = int(input(\"enter the time\"))\n",
        "if time <= 4:\n",
        "    print(\"we are not goig to readingroom\")\n",
        "else:\n",
        "    print(\"we are going to readingroom\")"
      ],
      "metadata": {
        "colab": {
          "base_uri": "https://localhost:8080/"
        },
        "id": "1G0qF7sLHAmH",
        "outputId": "1c49ad69-4b6a-486f-c000-421a8d513e99"
      },
      "execution_count": null,
      "outputs": [
        {
          "output_type": "stream",
          "name": "stdout",
          "text": [
            "enter the time2\n",
            "we are not goig to readingroom\n"
          ]
        }
      ]
    },
    {
      "cell_type": "markdown",
      "source": [
        "**loops**\n",
        "a instruction that repeats multiple times as long as some condition is met\n",
        "while loop\n",
        "for loop\n",
        "nested loop"
      ],
      "metadata": {
        "id": "a4Vpu9X1SAQ7"
      }
    },
    {
      "cell_type": "code",
      "source": [
        "#while loop\n",
        "# syntax:\n",
        "#     while(condition):\n",
        "#         statement\n",
        "#         increment/decrement\n",
        "val = int(input(\"enter the multiple of 7: \"))\n",
        "while val%7 != 0:\n",
        "      val = int(input(\"enter the multiple of 7: \"))\n",
        "else:\n",
        "    print (\"%d is the a multiple of 7\" %val)"
      ],
      "metadata": {
        "colab": {
          "base_uri": "https://localhost:8080/"
        },
        "id": "qAliklLRSCM1",
        "outputId": "40e7efbc-0e15-4b4b-e8e9-6bb1c1bf131d"
      },
      "execution_count": null,
      "outputs": [
        {
          "output_type": "stream",
          "name": "stdout",
          "text": [
            "enter the multiple of 7: 4\n",
            "enter the multiple of 7: 7\n",
            "7 is the a multiple of 7\n"
          ]
        }
      ]
    },
    {
      "cell_type": "code",
      "source": [
        "#for loop\n",
        "#syntax:\n",
        "# for val in sequence:\n",
        "#     statement\n",
        "\n",
        "v = \"Meenu\"\n",
        "for i in v:\n",
        "    print(i)"
      ],
      "metadata": {
        "colab": {
          "base_uri": "https://localhost:8080/"
        },
        "id": "gFH8GprdUxDo",
        "outputId": "e608249e-5b30-4ecd-997f-540f5bc9f651"
      },
      "execution_count": null,
      "outputs": [
        {
          "output_type": "stream",
          "name": "stdout",
          "text": [
            "M\n",
            "e\n",
            "e\n",
            "n\n",
            "u\n"
          ]
        }
      ]
    },
    {
      "cell_type": "code",
      "source": [
        "X = [1,6,\"Meenu\"]\n",
        "for i in X:\n",
        "    print(i)"
      ],
      "metadata": {
        "colab": {
          "base_uri": "https://localhost:8080/"
        },
        "id": "MzYdO4o-WKqz",
        "outputId": "36b52703-b98d-4c4e-8392-9f0d9726432e"
      },
      "execution_count": null,
      "outputs": [
        {
          "output_type": "stream",
          "name": "stdout",
          "text": [
            "1\n",
            "6\n",
            "Meenu\n"
          ]
        }
      ]
    },
    {
      "cell_type": "code",
      "source": [
        "# nested loop\n",
        "X = [[1,2,3],[\"Meenu\",\"Drasti\",\"Meeni\"]]\n",
        "for i in X:\n",
        "    for j in i:\n",
        "     print(j,end= \"\")\n"
      ],
      "metadata": {
        "colab": {
          "base_uri": "https://localhost:8080/"
        },
        "id": "yes9BtaCWZOk",
        "outputId": "fe1eda3a-9804-4143-b33a-9bfb9735414a"
      },
      "execution_count": null,
      "outputs": [
        {
          "output_type": "stream",
          "name": "stdout",
          "text": [
            "123MeenuDrastiMeeni"
          ]
        }
      ]
    },
    {
      "cell_type": "code",
      "source": [],
      "metadata": {
        "id": "dozNfZpgXK5-"
      },
      "execution_count": null,
      "outputs": []
    },
    {
      "cell_type": "markdown",
      "source": [
        "Loop control statements alter the regular flow of a loof\n",
        "Break\n",
        "continue\n",
        "---\n",
        "\n"
      ],
      "metadata": {
        "id": "7uf6WohwYEYM"
      }
    },
    {
      "cell_type": "code",
      "source": [
        "X = \"Hey there, what should this do\"\n",
        "for i in X:\n",
        "  if i == \",\":\n",
        "    break\n",
        "  print(i,end=\"\")"
      ],
      "metadata": {
        "colab": {
          "base_uri": "https://localhost:8080/"
        },
        "id": "BHAEW6i3YQxS",
        "outputId": "164853c3-0f42-4924-fc8b-428c9d11957e"
      },
      "execution_count": null,
      "outputs": [
        {
          "output_type": "stream",
          "name": "stdout",
          "text": [
            "Hey there"
          ]
        }
      ]
    },
    {
      "cell_type": "code",
      "source": [
        "for i in [1,13,56,45,2]:\n",
        "  if i>10:\n",
        "\n",
        "    print(i)"
      ],
      "metadata": {
        "colab": {
          "base_uri": "https://localhost:8080/"
        },
        "id": "cuQNiKcqY_ML",
        "outputId": "8b2e097d-487c-4ace-fef1-75c33c2f96ec"
      },
      "execution_count": null,
      "outputs": [
        {
          "output_type": "stream",
          "name": "stdout",
          "text": [
            "13\n",
            "56\n",
            "45\n"
          ]
        }
      ]
    },
    {
      "cell_type": "code",
      "source": [
        "n = int(input(\"enter the number: \"))\n",
        "nr = 0\n",
        "while n%10!= 0:\n",
        "    c = n%10\n",
        "    nr = nr*10+c\n",
        "    n = n//10\n",
        "print(nr)\n"
      ],
      "metadata": {
        "id": "P9Ydz2TbZlKU",
        "colab": {
          "base_uri": "https://localhost:8080/"
        },
        "outputId": "93c365a9-4b1b-4b78-80cc-ad8a950d6ec9"
      },
      "execution_count": null,
      "outputs": [
        {
          "output_type": "stream",
          "name": "stdout",
          "text": [
            "enter the number: 21\n",
            "12\n"
          ]
        }
      ]
    },
    {
      "cell_type": "code",
      "source": [
        "def welcome():\n",
        "  print(\"good morning\")\n",
        "  print(\"have a nice day\")\n",
        "welcome()"
      ],
      "metadata": {
        "colab": {
          "base_uri": "https://localhost:8080/"
        },
        "id": "p7xOO7KxtLBZ",
        "outputId": "00b628a1-7245-4422-fe5b-e91ace50f1d2"
      },
      "execution_count": null,
      "outputs": [
        {
          "output_type": "stream",
          "name": "stdout",
          "text": [
            "good morning\n",
            "have a nice day\n"
          ]
        }
      ]
    },
    {
      "cell_type": "code",
      "source": [],
      "metadata": {
        "id": "rpQG83RG2eeQ"
      },
      "execution_count": null,
      "outputs": []
    },
    {
      "cell_type": "markdown",
      "source": [
        "function"
      ],
      "metadata": {
        "id": "OV_j1_I724lv"
      }
    },
    {
      "cell_type": "code",
      "source": [
        "def add(a,b):\n",
        "  c = a+b\n",
        "  print(c)\n",
        "add(2,3)\n",
        "def sub(a,b):\n",
        "  c = a-b\n",
        "  print(c)\n",
        "sub(2,3)\n",
        "print(id(add))\n",
        "print(id(sub))"
      ],
      "metadata": {
        "colab": {
          "base_uri": "https://localhost:8080/"
        },
        "id": "KnDz81dZ29D-",
        "outputId": "e4d53f49-229f-4c86-ac2b-b6823ba64dc7"
      },
      "execution_count": null,
      "outputs": [
        {
          "output_type": "stream",
          "name": "stdout",
          "text": [
            "5\n",
            "-1\n",
            "134238527170176\n",
            "134238959577712\n"
          ]
        }
      ]
    },
    {
      "cell_type": "code",
      "source": [
        "#Class & object\n",
        "class Person:\n",
        "  def __init__(self):\n",
        "    self.name = \"Meenu\"\n",
        "    self.age = 20\n",
        "    self.gender = \"Female\"\n",
        "\n",
        "  def Behaviour(self):\n",
        "    print(\"hi i am\",self.name)\n",
        "    print(\"my age is\",self.age)\n",
        "    print(\"i am a\",self.gender)\n",
        "obj = Person()\n",
        "obj.Behaviour()"
      ],
      "metadata": {
        "colab": {
          "base_uri": "https://localhost:8080/"
        },
        "id": "k29Nvyk83ML2",
        "outputId": "1ec4444b-b630-4406-9a65-bf9924733ea4"
      },
      "execution_count": null,
      "outputs": [
        {
          "output_type": "stream",
          "name": "stdout",
          "text": [
            "hi i am Meenu\n",
            "my age is 20\n",
            "i am a Female\n"
          ]
        }
      ]
    },
    {
      "cell_type": "code",
      "source": [
        "#Array\n",
        "import array as arr\n",
        "a = arr.array('i',[1,2,3,4,5])\n",
        "print(a)"
      ],
      "metadata": {
        "colab": {
          "base_uri": "https://localhost:8080/"
        },
        "id": "D3745Jvg3qTP",
        "outputId": "55692a94-35ca-4c3f-9a22-fb16d3a00ba9"
      },
      "execution_count": null,
      "outputs": [
        {
          "output_type": "stream",
          "name": "stdout",
          "text": [
            "array('i', [1, 2, 3, 4, 5])\n"
          ]
        }
      ]
    },
    {
      "cell_type": "code",
      "source": [
        "from array import *\n",
        "a = array('i',[1,2,3,4,5])\n",
        "print(a)"
      ],
      "metadata": {
        "colab": {
          "base_uri": "https://localhost:8080/"
        },
        "id": "cYcmIyVGBONo",
        "outputId": "ae871058-b897-4a4e-8a54-b54f3f52df1f"
      },
      "execution_count": null,
      "outputs": [
        {
          "output_type": "stream",
          "name": "stdout",
          "text": [
            "array('i', [1, 2, 3, 4, 5])\n"
          ]
        }
      ]
    },
    {
      "cell_type": "markdown",
      "source": [
        "Class Objects\n"
      ],
      "metadata": {
        "id": "aX10Iylm9Bms"
      }
    },
    {
      "cell_type": "code",
      "source": [
        "class Car():\n",
        "  def __init__(self,model,color):\n",
        "    self.model = model\n",
        "    self.color = color\n",
        "  def show(self):\n",
        "    print(\"model is\",self.model)\n",
        "    print(\"color is\",self.color)\n",
        "obj1 = Car(2017,\"red\")\n",
        "obj2 = Car(2018,\"blue\")\n",
        "obj1.show()\n",
        "obj2.show()"
      ],
      "metadata": {
        "colab": {
          "base_uri": "https://localhost:8080/"
        },
        "id": "t_epamPk9JCV",
        "outputId": "6582f6fa-6cae-4c69-bece-8350e691fe76"
      },
      "execution_count": null,
      "outputs": [
        {
          "output_type": "stream",
          "name": "stdout",
          "text": [
            "model is 2017\n",
            "color is red\n",
            "model is 2018\n",
            "color is blue\n"
          ]
        }
      ]
    },
    {
      "cell_type": "code",
      "source": [],
      "metadata": {
        "id": "kKtmtXrl98zi"
      },
      "execution_count": null,
      "outputs": []
    },
    {
      "cell_type": "markdown",
      "source": [
        "Threading"
      ],
      "metadata": {
        "id": "L7rjVqfxFcd9"
      }
    },
    {
      "cell_type": "code",
      "source": [
        "from threading import *\n",
        "from time import sleep\n",
        "def show(name):\n",
        "  for i in range(5):\n",
        "    print(name)\n",
        "    sleep(1)\n",
        "t1 = Thread(target=show,args=(\"Meenu\",))\n",
        "t2 = Thread(target=show,args=(\"Drasti\",))\n",
        "t1.start()\n",
        "t2.start()"
      ],
      "metadata": {
        "colab": {
          "base_uri": "https://localhost:8080/"
        },
        "id": "zb49aMQNFvX1",
        "outputId": "766b9257-a23f-4a0c-9d03-3a90c1dd6330"
      },
      "execution_count": null,
      "outputs": [
        {
          "output_type": "stream",
          "name": "stdout",
          "text": [
            "Meenu\n",
            "Drasti\n"
          ]
        }
      ]
    },
    {
      "cell_type": "code",
      "source": [
        "from threading import*\n",
        "class MyThread(Thread):\n",
        "  def run(self):\n",
        "    for i in range(5):\n",
        "      print(\"this is a child class\")\n",
        "t = MyThread()\n",
        "t.start()\n",
        "for i in range(5):\n",
        "  print(\"this is the main class\")\n"
      ],
      "metadata": {
        "colab": {
          "base_uri": "https://localhost:8080/"
        },
        "id": "lnlTUl03GoJb",
        "outputId": "444e34d2-6266-4acc-cc81-3e52b60cc1b3"
      },
      "execution_count": null,
      "outputs": [
        {
          "output_type": "stream",
          "name": "stdout",
          "text": [
            "this is a child classthis is the main class\n",
            "this is the main class\n",
            "this is the main class\n",
            "this is the main class\n",
            "this is the main class\n",
            "\n",
            "this is a child class\n",
            "this is a child class\n",
            "this is a child class\n",
            "this is a child class\n"
          ]
        }
      ]
    },
    {
      "cell_type": "code",
      "source": [
        "from threading import*\n",
        "class MyThread(Thread):\n",
        "  def run(self):\n",
        "    for i in range(5):\n",
        "      print(\"this is a child class\")\n",
        "t = MyThread()\n",
        "t.start()\n",
        "for i in range(5):\n",
        "  print(\"this is the main class\")"
      ],
      "metadata": {
        "colab": {
          "base_uri": "https://localhost:8080/"
        },
        "id": "eJBs5mmBHKsz",
        "outputId": "864dcd8a-4e63-494d-9022-cddb3860880b"
      },
      "execution_count": null,
      "outputs": [
        {
          "output_type": "stream",
          "name": "stdout",
          "text": [
            "this is a child classthis is the main class\n",
            "this is the main class\n",
            "this is the main class\n",
            "this is the main class\n",
            "this is the main class\n",
            "\n",
            "this is a child class\n",
            "this is a child class\n",
            "this is a child class\n",
            "this is a child class\n"
          ]
        }
      ]
    },
    {
      "cell_type": "code",
      "source": [
        "import os\n",
        "def current_process():\n",
        "  print(\"Process id:\",os.getpid())\n",
        "current_process()\n",
        "#"
      ],
      "metadata": {
        "id": "iCBcBNBXHVF-",
        "colab": {
          "base_uri": "https://localhost:8080/"
        },
        "outputId": "9ecc05a9-12f4-450b-f051-2f401ec8caa1"
      },
      "execution_count": 1,
      "outputs": [
        {
          "output_type": "stream",
          "name": "stdout",
          "text": [
            "Process id: 398\n"
          ]
        }
      ]
    },
    {
      "cell_type": "code",
      "source": [
        "# time module\n",
        "import time\n",
        "epic = time.time()\n",
        "print(epic)\n",
        "localtime = time.localtime(epic)\n",
        "print(\"local time\")\n",
        "print(time.ctime(epic))\n"
      ],
      "metadata": {
        "colab": {
          "base_uri": "https://localhost:8080/"
        },
        "id": "fYhueVM4sqvM",
        "outputId": "b5538fba-805c-4f41-ce14-a35f42c5adf5"
      },
      "execution_count": 5,
      "outputs": [
        {
          "output_type": "stream",
          "name": "stdout",
          "text": [
            "1718367996.2370675\n",
            "local time\n",
            "Fri Jun 14 12:26:36 2024\n"
          ]
        }
      ]
    },
    {
      "cell_type": "code",
      "source": [
        "#smtp simple mail transfer protocol\n",
        "import smtplib\n",
        "\n",
        "stmObj = smtplip.STMP(\"stmp.gamil.com\",587)\n",
        "smtObj.chlo()\n",
        "smtObj.starttls()\n",
        "smtObj.login()\n"
      ],
      "metadata": {
        "colab": {
          "base_uri": "https://localhost:8080/",
          "height": 211
        },
        "collapsed": true,
        "id": "R5Y1_1yNtwqS",
        "outputId": "777e8b12-f091-43e1-9eb6-56785bb297a1"
      },
      "execution_count": 6,
      "outputs": [
        {
          "output_type": "error",
          "ename": "NameError",
          "evalue": "name 'smtplip' is not defined",
          "traceback": [
            "\u001b[0;31m---------------------------------------------------------------------------\u001b[0m",
            "\u001b[0;31mNameError\u001b[0m                                 Traceback (most recent call last)",
            "\u001b[0;32m<ipython-input-6-e927b6716928>\u001b[0m in \u001b[0;36m<cell line: 3>\u001b[0;34m()\u001b[0m\n\u001b[1;32m      1\u001b[0m \u001b[0;31m#smtp simple mail transfer protocol\u001b[0m\u001b[0;34m\u001b[0m\u001b[0;34m\u001b[0m\u001b[0m\n\u001b[1;32m      2\u001b[0m \u001b[0;32mimport\u001b[0m \u001b[0msmtplib\u001b[0m\u001b[0;34m\u001b[0m\u001b[0;34m\u001b[0m\u001b[0m\n\u001b[0;32m----> 3\u001b[0;31m \u001b[0mstmObj\u001b[0m \u001b[0;34m=\u001b[0m \u001b[0msmtplip\u001b[0m\u001b[0;34m.\u001b[0m\u001b[0mSTMP\u001b[0m\u001b[0;34m(\u001b[0m\u001b[0;34m\"stmp.gamil.com\"\u001b[0m\u001b[0;34m,\u001b[0m\u001b[0;36m587\u001b[0m\u001b[0;34m)\u001b[0m\u001b[0;34m\u001b[0m\u001b[0;34m\u001b[0m\u001b[0m\n\u001b[0m\u001b[1;32m      4\u001b[0m \u001b[0msmtObj\u001b[0m\u001b[0;34m.\u001b[0m\u001b[0mchlo\u001b[0m\u001b[0;34m(\u001b[0m\u001b[0;34m)\u001b[0m\u001b[0;34m\u001b[0m\u001b[0;34m\u001b[0m\u001b[0m\n\u001b[1;32m      5\u001b[0m \u001b[0msmtObj\u001b[0m\u001b[0;34m.\u001b[0m\u001b[0mlogin\u001b[0m\u001b[0;34m(\u001b[0m\u001b[0;34m)\u001b[0m\u001b[0;34m\u001b[0m\u001b[0;34m\u001b[0m\u001b[0m\n",
            "\u001b[0;31mNameError\u001b[0m: name 'smtplip' is not defined"
          ]
        }
      ]
    },
    {
      "cell_type": "code",
      "source": [
        "from os import path\n",
        "def current_process(dest):\n",
        "  if not(path.exists(dest)):\n",
        "    f = open(dest,'w')\n",
        "    f.write(\"hello\")\n",
        "    f.close()\n",
        "    os.mkdir(dest)\n",
        "  os.chdir(dest)\n",
        "  print(\"Process id:\",getpid())\n"
      ],
      "metadata": {
        "id": "8UJtFjwnvAKL"
      },
      "execution_count": 8,
      "outputs": []
    },
    {
      "cell_type": "markdown",
      "source": [
        "Multithreading"
      ],
      "metadata": {
        "id": "8pD7ynADHZuW"
      }
    },
    {
      "cell_type": "code",
      "source": [
        "def func1(*args):\n",
        "  for i in args:\n",
        "    print(i)\n",
        "func1(10,20,23,45,67)"
      ],
      "metadata": {
        "colab": {
          "base_uri": "https://localhost:8080/"
        },
        "id": "qiR6BR8swVvO",
        "outputId": "09d6c7ff-8956-48f1-b0b8-b9060ff0cd7b"
      },
      "execution_count": 11,
      "outputs": [
        {
          "output_type": "stream",
          "name": "stdout",
          "text": [
            "10\n",
            "20\n",
            "23\n",
            "45\n",
            "67\n"
          ]
        }
      ]
    },
    {
      "cell_type": "code",
      "source": [],
      "metadata": {
        "id": "g8tjfd3sxJ7z"
      },
      "execution_count": null,
      "outputs": []
    },
    {
      "cell_type": "markdown",
      "source": [
        "def func(*args,**kwargs):\n",
        "\n"
      ],
      "metadata": {
        "id": "z3cIjZ0rxKwC"
      }
    },
    {
      "cell_type": "code",
      "source": [
        "def func(*args,**kwargs):\n",
        "  print(args)\n",
        "  print(kwargs)\n",
        "func(1,2,3,a=4,b=5)\n",
        "#"
      ],
      "metadata": {
        "colab": {
          "base_uri": "https://localhost:8080/"
        },
        "id": "7WLojh6AxWCs",
        "outputId": "5b702f5a-bd62-4e74-e818-d0a4c37bb09c"
      },
      "execution_count": 13,
      "outputs": [
        {
          "output_type": "stream",
          "name": "stdout",
          "text": [
            "(1, 2, 3)\n",
            "{'a': 4, 'b': 5}\n"
          ]
        }
      ]
    },
    {
      "cell_type": "code",
      "source": [
        "#creation of file\n",
        "def fun():\n",
        "  print(\"this is first function\")\n",
        "  x = 10\n",
        "  def fun2(x):\n",
        "    print(\"this is nested function\")\n",
        "    return x+1\n",
        "  return fun2(x)\n",
        "print(fun())\n",
        "\n"
      ],
      "metadata": {
        "colab": {
          "base_uri": "https://localhost:8080/"
        },
        "id": "j-KnGarbxb5P",
        "outputId": "88e13d95-a478-439c-9cd9-259bc2f34cdb"
      },
      "execution_count": 16,
      "outputs": [
        {
          "output_type": "stream",
          "name": "stdout",
          "text": [
            "this is first function\n",
            "this is nested function\n",
            "11\n"
          ]
        }
      ]
    },
    {
      "cell_type": "code",
      "source": [
        "#create class at run time\n",
        "#factory\n",
        "B= type (\"BaseClass\",(object,),{})\n",
        "c1 = type(\"Class1\",(B,),{'val':5})\n",
        "c2 = type(\"Class2\",(B,),{'val':10})\n",
        "\n",
        "def ClassCreator(bool):\n",
        "   if bool:\n",
        "     return c1()\n",
        "   else:\n",
        "    return c2()\n",
        "print(ClassCreator(True).val)\n",
        "print(ClassCreator(False).val )\n"
      ],
      "metadata": {
        "colab": {
          "base_uri": "https://localhost:8080/"
        },
        "id": "NwfLX3DTyV9J",
        "outputId": "387170bd-96a5-49bd-a0c8-0b6f4a8927d0"
      },
      "execution_count": 19,
      "outputs": [
        {
          "output_type": "stream",
          "name": "stdout",
          "text": [
            "5\n",
            "10\n"
          ]
        }
      ]
    },
    {
      "cell_type": "code",
      "source": [
        "import pandas as pd\n",
        "import numpy as np\n",
        "df = pd.DataFrame(np.random.randn(6,4),columns=list('ABCD'))\n",
        "df\n",
        "\n"
      ],
      "metadata": {
        "colab": {
          "base_uri": "https://localhost:8080/",
          "height": 237
        },
        "id": "-xtCbLM85QPT",
        "outputId": "cc9dc6e1-a16e-4258-ff32-d63857a7db7e"
      },
      "execution_count": 22,
      "outputs": [
        {
          "output_type": "execute_result",
          "data": {
            "text/plain": [
              "          A         B         C         D\n",
              "0  0.543081 -0.525368 -0.474496 -0.540996\n",
              "1  1.072682 -0.857956  1.091348 -0.840054\n",
              "2 -0.207761 -2.475264  0.538187 -0.920773\n",
              "3  0.646072  1.071781 -1.811490  0.401310\n",
              "4  0.877944  0.817046 -0.893311  0.205507\n",
              "5  0.243602  0.702694 -0.856736 -1.177953"
            ],
            "text/html": [
              "\n",
              "  <div id=\"df-bbb9641f-8d43-41d5-8b1a-992a8de49d3a\" class=\"colab-df-container\">\n",
              "    <div>\n",
              "<style scoped>\n",
              "    .dataframe tbody tr th:only-of-type {\n",
              "        vertical-align: middle;\n",
              "    }\n",
              "\n",
              "    .dataframe tbody tr th {\n",
              "        vertical-align: top;\n",
              "    }\n",
              "\n",
              "    .dataframe thead th {\n",
              "        text-align: right;\n",
              "    }\n",
              "</style>\n",
              "<table border=\"1\" class=\"dataframe\">\n",
              "  <thead>\n",
              "    <tr style=\"text-align: right;\">\n",
              "      <th></th>\n",
              "      <th>A</th>\n",
              "      <th>B</th>\n",
              "      <th>C</th>\n",
              "      <th>D</th>\n",
              "    </tr>\n",
              "  </thead>\n",
              "  <tbody>\n",
              "    <tr>\n",
              "      <th>0</th>\n",
              "      <td>0.543081</td>\n",
              "      <td>-0.525368</td>\n",
              "      <td>-0.474496</td>\n",
              "      <td>-0.540996</td>\n",
              "    </tr>\n",
              "    <tr>\n",
              "      <th>1</th>\n",
              "      <td>1.072682</td>\n",
              "      <td>-0.857956</td>\n",
              "      <td>1.091348</td>\n",
              "      <td>-0.840054</td>\n",
              "    </tr>\n",
              "    <tr>\n",
              "      <th>2</th>\n",
              "      <td>-0.207761</td>\n",
              "      <td>-2.475264</td>\n",
              "      <td>0.538187</td>\n",
              "      <td>-0.920773</td>\n",
              "    </tr>\n",
              "    <tr>\n",
              "      <th>3</th>\n",
              "      <td>0.646072</td>\n",
              "      <td>1.071781</td>\n",
              "      <td>-1.811490</td>\n",
              "      <td>0.401310</td>\n",
              "    </tr>\n",
              "    <tr>\n",
              "      <th>4</th>\n",
              "      <td>0.877944</td>\n",
              "      <td>0.817046</td>\n",
              "      <td>-0.893311</td>\n",
              "      <td>0.205507</td>\n",
              "    </tr>\n",
              "    <tr>\n",
              "      <th>5</th>\n",
              "      <td>0.243602</td>\n",
              "      <td>0.702694</td>\n",
              "      <td>-0.856736</td>\n",
              "      <td>-1.177953</td>\n",
              "    </tr>\n",
              "  </tbody>\n",
              "</table>\n",
              "</div>\n",
              "    <div class=\"colab-df-buttons\">\n",
              "\n",
              "  <div class=\"colab-df-container\">\n",
              "    <button class=\"colab-df-convert\" onclick=\"convertToInteractive('df-bbb9641f-8d43-41d5-8b1a-992a8de49d3a')\"\n",
              "            title=\"Convert this dataframe to an interactive table.\"\n",
              "            style=\"display:none;\">\n",
              "\n",
              "  <svg xmlns=\"http://www.w3.org/2000/svg\" height=\"24px\" viewBox=\"0 -960 960 960\">\n",
              "    <path d=\"M120-120v-720h720v720H120Zm60-500h600v-160H180v160Zm220 220h160v-160H400v160Zm0 220h160v-160H400v160ZM180-400h160v-160H180v160Zm440 0h160v-160H620v160ZM180-180h160v-160H180v160Zm440 0h160v-160H620v160Z\"/>\n",
              "  </svg>\n",
              "    </button>\n",
              "\n",
              "  <style>\n",
              "    .colab-df-container {\n",
              "      display:flex;\n",
              "      gap: 12px;\n",
              "    }\n",
              "\n",
              "    .colab-df-convert {\n",
              "      background-color: #E8F0FE;\n",
              "      border: none;\n",
              "      border-radius: 50%;\n",
              "      cursor: pointer;\n",
              "      display: none;\n",
              "      fill: #1967D2;\n",
              "      height: 32px;\n",
              "      padding: 0 0 0 0;\n",
              "      width: 32px;\n",
              "    }\n",
              "\n",
              "    .colab-df-convert:hover {\n",
              "      background-color: #E2EBFA;\n",
              "      box-shadow: 0px 1px 2px rgba(60, 64, 67, 0.3), 0px 1px 3px 1px rgba(60, 64, 67, 0.15);\n",
              "      fill: #174EA6;\n",
              "    }\n",
              "\n",
              "    .colab-df-buttons div {\n",
              "      margin-bottom: 4px;\n",
              "    }\n",
              "\n",
              "    [theme=dark] .colab-df-convert {\n",
              "      background-color: #3B4455;\n",
              "      fill: #D2E3FC;\n",
              "    }\n",
              "\n",
              "    [theme=dark] .colab-df-convert:hover {\n",
              "      background-color: #434B5C;\n",
              "      box-shadow: 0px 1px 3px 1px rgba(0, 0, 0, 0.15);\n",
              "      filter: drop-shadow(0px 1px 2px rgba(0, 0, 0, 0.3));\n",
              "      fill: #FFFFFF;\n",
              "    }\n",
              "  </style>\n",
              "\n",
              "    <script>\n",
              "      const buttonEl =\n",
              "        document.querySelector('#df-bbb9641f-8d43-41d5-8b1a-992a8de49d3a button.colab-df-convert');\n",
              "      buttonEl.style.display =\n",
              "        google.colab.kernel.accessAllowed ? 'block' : 'none';\n",
              "\n",
              "      async function convertToInteractive(key) {\n",
              "        const element = document.querySelector('#df-bbb9641f-8d43-41d5-8b1a-992a8de49d3a');\n",
              "        const dataTable =\n",
              "          await google.colab.kernel.invokeFunction('convertToInteractive',\n",
              "                                                    [key], {});\n",
              "        if (!dataTable) return;\n",
              "\n",
              "        const docLinkHtml = 'Like what you see? Visit the ' +\n",
              "          '<a target=\"_blank\" href=https://colab.research.google.com/notebooks/data_table.ipynb>data table notebook</a>'\n",
              "          + ' to learn more about interactive tables.';\n",
              "        element.innerHTML = '';\n",
              "        dataTable['output_type'] = 'display_data';\n",
              "        await google.colab.output.renderOutput(dataTable, element);\n",
              "        const docLink = document.createElement('div');\n",
              "        docLink.innerHTML = docLinkHtml;\n",
              "        element.appendChild(docLink);\n",
              "      }\n",
              "    </script>\n",
              "  </div>\n",
              "\n",
              "\n",
              "<div id=\"df-6f71c602-6fde-42f4-899b-36aec40a4a1d\">\n",
              "  <button class=\"colab-df-quickchart\" onclick=\"quickchart('df-6f71c602-6fde-42f4-899b-36aec40a4a1d')\"\n",
              "            title=\"Suggest charts\"\n",
              "            style=\"display:none;\">\n",
              "\n",
              "<svg xmlns=\"http://www.w3.org/2000/svg\" height=\"24px\"viewBox=\"0 0 24 24\"\n",
              "     width=\"24px\">\n",
              "    <g>\n",
              "        <path d=\"M19 3H5c-1.1 0-2 .9-2 2v14c0 1.1.9 2 2 2h14c1.1 0 2-.9 2-2V5c0-1.1-.9-2-2-2zM9 17H7v-7h2v7zm4 0h-2V7h2v10zm4 0h-2v-4h2v4z\"/>\n",
              "    </g>\n",
              "</svg>\n",
              "  </button>\n",
              "\n",
              "<style>\n",
              "  .colab-df-quickchart {\n",
              "      --bg-color: #E8F0FE;\n",
              "      --fill-color: #1967D2;\n",
              "      --hover-bg-color: #E2EBFA;\n",
              "      --hover-fill-color: #174EA6;\n",
              "      --disabled-fill-color: #AAA;\n",
              "      --disabled-bg-color: #DDD;\n",
              "  }\n",
              "\n",
              "  [theme=dark] .colab-df-quickchart {\n",
              "      --bg-color: #3B4455;\n",
              "      --fill-color: #D2E3FC;\n",
              "      --hover-bg-color: #434B5C;\n",
              "      --hover-fill-color: #FFFFFF;\n",
              "      --disabled-bg-color: #3B4455;\n",
              "      --disabled-fill-color: #666;\n",
              "  }\n",
              "\n",
              "  .colab-df-quickchart {\n",
              "    background-color: var(--bg-color);\n",
              "    border: none;\n",
              "    border-radius: 50%;\n",
              "    cursor: pointer;\n",
              "    display: none;\n",
              "    fill: var(--fill-color);\n",
              "    height: 32px;\n",
              "    padding: 0;\n",
              "    width: 32px;\n",
              "  }\n",
              "\n",
              "  .colab-df-quickchart:hover {\n",
              "    background-color: var(--hover-bg-color);\n",
              "    box-shadow: 0 1px 2px rgba(60, 64, 67, 0.3), 0 1px 3px 1px rgba(60, 64, 67, 0.15);\n",
              "    fill: var(--button-hover-fill-color);\n",
              "  }\n",
              "\n",
              "  .colab-df-quickchart-complete:disabled,\n",
              "  .colab-df-quickchart-complete:disabled:hover {\n",
              "    background-color: var(--disabled-bg-color);\n",
              "    fill: var(--disabled-fill-color);\n",
              "    box-shadow: none;\n",
              "  }\n",
              "\n",
              "  .colab-df-spinner {\n",
              "    border: 2px solid var(--fill-color);\n",
              "    border-color: transparent;\n",
              "    border-bottom-color: var(--fill-color);\n",
              "    animation:\n",
              "      spin 1s steps(1) infinite;\n",
              "  }\n",
              "\n",
              "  @keyframes spin {\n",
              "    0% {\n",
              "      border-color: transparent;\n",
              "      border-bottom-color: var(--fill-color);\n",
              "      border-left-color: var(--fill-color);\n",
              "    }\n",
              "    20% {\n",
              "      border-color: transparent;\n",
              "      border-left-color: var(--fill-color);\n",
              "      border-top-color: var(--fill-color);\n",
              "    }\n",
              "    30% {\n",
              "      border-color: transparent;\n",
              "      border-left-color: var(--fill-color);\n",
              "      border-top-color: var(--fill-color);\n",
              "      border-right-color: var(--fill-color);\n",
              "    }\n",
              "    40% {\n",
              "      border-color: transparent;\n",
              "      border-right-color: var(--fill-color);\n",
              "      border-top-color: var(--fill-color);\n",
              "    }\n",
              "    60% {\n",
              "      border-color: transparent;\n",
              "      border-right-color: var(--fill-color);\n",
              "    }\n",
              "    80% {\n",
              "      border-color: transparent;\n",
              "      border-right-color: var(--fill-color);\n",
              "      border-bottom-color: var(--fill-color);\n",
              "    }\n",
              "    90% {\n",
              "      border-color: transparent;\n",
              "      border-bottom-color: var(--fill-color);\n",
              "    }\n",
              "  }\n",
              "</style>\n",
              "\n",
              "  <script>\n",
              "    async function quickchart(key) {\n",
              "      const quickchartButtonEl =\n",
              "        document.querySelector('#' + key + ' button');\n",
              "      quickchartButtonEl.disabled = true;  // To prevent multiple clicks.\n",
              "      quickchartButtonEl.classList.add('colab-df-spinner');\n",
              "      try {\n",
              "        const charts = await google.colab.kernel.invokeFunction(\n",
              "            'suggestCharts', [key], {});\n",
              "      } catch (error) {\n",
              "        console.error('Error during call to suggestCharts:', error);\n",
              "      }\n",
              "      quickchartButtonEl.classList.remove('colab-df-spinner');\n",
              "      quickchartButtonEl.classList.add('colab-df-quickchart-complete');\n",
              "    }\n",
              "    (() => {\n",
              "      let quickchartButtonEl =\n",
              "        document.querySelector('#df-6f71c602-6fde-42f4-899b-36aec40a4a1d button');\n",
              "      quickchartButtonEl.style.display =\n",
              "        google.colab.kernel.accessAllowed ? 'block' : 'none';\n",
              "    })();\n",
              "  </script>\n",
              "</div>\n",
              "\n",
              "  <div id=\"id_bb306b71-ad6e-4242-ae37-61351ad4a570\">\n",
              "    <style>\n",
              "      .colab-df-generate {\n",
              "        background-color: #E8F0FE;\n",
              "        border: none;\n",
              "        border-radius: 50%;\n",
              "        cursor: pointer;\n",
              "        display: none;\n",
              "        fill: #1967D2;\n",
              "        height: 32px;\n",
              "        padding: 0 0 0 0;\n",
              "        width: 32px;\n",
              "      }\n",
              "\n",
              "      .colab-df-generate:hover {\n",
              "        background-color: #E2EBFA;\n",
              "        box-shadow: 0px 1px 2px rgba(60, 64, 67, 0.3), 0px 1px 3px 1px rgba(60, 64, 67, 0.15);\n",
              "        fill: #174EA6;\n",
              "      }\n",
              "\n",
              "      [theme=dark] .colab-df-generate {\n",
              "        background-color: #3B4455;\n",
              "        fill: #D2E3FC;\n",
              "      }\n",
              "\n",
              "      [theme=dark] .colab-df-generate:hover {\n",
              "        background-color: #434B5C;\n",
              "        box-shadow: 0px 1px 3px 1px rgba(0, 0, 0, 0.15);\n",
              "        filter: drop-shadow(0px 1px 2px rgba(0, 0, 0, 0.3));\n",
              "        fill: #FFFFFF;\n",
              "      }\n",
              "    </style>\n",
              "    <button class=\"colab-df-generate\" onclick=\"generateWithVariable('df')\"\n",
              "            title=\"Generate code using this dataframe.\"\n",
              "            style=\"display:none;\">\n",
              "\n",
              "  <svg xmlns=\"http://www.w3.org/2000/svg\" height=\"24px\"viewBox=\"0 0 24 24\"\n",
              "       width=\"24px\">\n",
              "    <path d=\"M7,19H8.4L18.45,9,17,7.55,7,17.6ZM5,21V16.75L18.45,3.32a2,2,0,0,1,2.83,0l1.4,1.43a1.91,1.91,0,0,1,.58,1.4,1.91,1.91,0,0,1-.58,1.4L9.25,21ZM18.45,9,17,7.55Zm-12,3A5.31,5.31,0,0,0,4.9,8.1,5.31,5.31,0,0,0,1,6.5,5.31,5.31,0,0,0,4.9,4.9,5.31,5.31,0,0,0,6.5,1,5.31,5.31,0,0,0,8.1,4.9,5.31,5.31,0,0,0,12,6.5,5.46,5.46,0,0,0,6.5,12Z\"/>\n",
              "  </svg>\n",
              "    </button>\n",
              "    <script>\n",
              "      (() => {\n",
              "      const buttonEl =\n",
              "        document.querySelector('#id_bb306b71-ad6e-4242-ae37-61351ad4a570 button.colab-df-generate');\n",
              "      buttonEl.style.display =\n",
              "        google.colab.kernel.accessAllowed ? 'block' : 'none';\n",
              "\n",
              "      buttonEl.onclick = () => {\n",
              "        google.colab.notebook.generateWithVariable('df');\n",
              "      }\n",
              "      })();\n",
              "    </script>\n",
              "  </div>\n",
              "\n",
              "    </div>\n",
              "  </div>\n"
            ],
            "application/vnd.google.colaboratory.intrinsic+json": {
              "type": "dataframe",
              "variable_name": "df",
              "summary": "{\n  \"name\": \"df\",\n  \"rows\": 6,\n  \"fields\": [\n    {\n      \"column\": \"A\",\n      \"properties\": {\n        \"dtype\": \"number\",\n        \"std\": 0.4594614208705507,\n        \"min\": -0.2077607869386942,\n        \"max\": 1.0726822064509818,\n        \"num_unique_values\": 6,\n        \"samples\": [\n          0.5430806707769035,\n          1.0726822064509818,\n          0.24360241671668023\n        ],\n        \"semantic_type\": \"\",\n        \"description\": \"\"\n      }\n    },\n    {\n      \"column\": \"B\",\n      \"properties\": {\n        \"dtype\": \"number\",\n        \"std\": 1.3551025190553228,\n        \"min\": -2.4752638581712425,\n        \"max\": 1.0717813782674563,\n        \"num_unique_values\": 6,\n        \"samples\": [\n          -0.5253681626166674,\n          -0.8579558369871084,\n          0.7026944862720894\n        ],\n        \"semantic_type\": \"\",\n        \"description\": \"\"\n      }\n    },\n    {\n      \"column\": \"C\",\n      \"properties\": {\n        \"dtype\": \"number\",\n        \"std\": 1.053956750247771,\n        \"min\": -1.811489893860522,\n        \"max\": 1.0913483115395606,\n        \"num_unique_values\": 6,\n        \"samples\": [\n          -0.47449642114687823,\n          1.0913483115395606,\n          -0.8567357347901784\n        ],\n        \"semantic_type\": \"\",\n        \"description\": \"\"\n      }\n    },\n    {\n      \"column\": \"D\",\n      \"properties\": {\n        \"dtype\": \"number\",\n        \"std\": 0.6420899585336299,\n        \"min\": -1.177952543941397,\n        \"max\": 0.4013101498074214,\n        \"num_unique_values\": 6,\n        \"samples\": [\n          -0.5409959497235713,\n          -0.8400541898316973,\n          -1.177952543941397\n        ],\n        \"semantic_type\": \"\",\n        \"description\": \"\"\n      }\n    }\n  ]\n}"
            }
          },
          "metadata": {},
          "execution_count": 22
        }
      ]
    },
    {
      "cell_type": "code",
      "source": [
        "df.describe()\n",
        "\n"
      ],
      "metadata": {
        "colab": {
          "base_uri": "https://localhost:8080/",
          "height": 300
        },
        "id": "KHhFq3H16EU8",
        "outputId": "bf602fa7-6a4e-49c3-c0c3-551212c537e8"
      },
      "execution_count": 25,
      "outputs": [
        {
          "output_type": "execute_result",
          "data": {
            "text/plain": [
              "              A         B         C         D\n",
              "count  6.000000  6.000000  6.000000  6.000000\n",
              "mean   0.529270 -0.211178 -0.401083 -0.478826\n",
              "std    0.459461  1.355103  1.053957  0.642090\n",
              "min   -0.207761 -2.475264 -1.811490 -1.177953\n",
              "25%    0.318472 -0.774809 -0.884167 -0.900594\n",
              "50%    0.594576  0.088663 -0.665616 -0.690525\n",
              "75%    0.819976  0.788458  0.285016  0.018881\n",
              "max    1.072682  1.071781  1.091348  0.401310"
            ],
            "text/html": [
              "\n",
              "  <div id=\"df-4f8556bd-5c04-482d-af10-01546fde2fb8\" class=\"colab-df-container\">\n",
              "    <div>\n",
              "<style scoped>\n",
              "    .dataframe tbody tr th:only-of-type {\n",
              "        vertical-align: middle;\n",
              "    }\n",
              "\n",
              "    .dataframe tbody tr th {\n",
              "        vertical-align: top;\n",
              "    }\n",
              "\n",
              "    .dataframe thead th {\n",
              "        text-align: right;\n",
              "    }\n",
              "</style>\n",
              "<table border=\"1\" class=\"dataframe\">\n",
              "  <thead>\n",
              "    <tr style=\"text-align: right;\">\n",
              "      <th></th>\n",
              "      <th>A</th>\n",
              "      <th>B</th>\n",
              "      <th>C</th>\n",
              "      <th>D</th>\n",
              "    </tr>\n",
              "  </thead>\n",
              "  <tbody>\n",
              "    <tr>\n",
              "      <th>count</th>\n",
              "      <td>6.000000</td>\n",
              "      <td>6.000000</td>\n",
              "      <td>6.000000</td>\n",
              "      <td>6.000000</td>\n",
              "    </tr>\n",
              "    <tr>\n",
              "      <th>mean</th>\n",
              "      <td>0.529270</td>\n",
              "      <td>-0.211178</td>\n",
              "      <td>-0.401083</td>\n",
              "      <td>-0.478826</td>\n",
              "    </tr>\n",
              "    <tr>\n",
              "      <th>std</th>\n",
              "      <td>0.459461</td>\n",
              "      <td>1.355103</td>\n",
              "      <td>1.053957</td>\n",
              "      <td>0.642090</td>\n",
              "    </tr>\n",
              "    <tr>\n",
              "      <th>min</th>\n",
              "      <td>-0.207761</td>\n",
              "      <td>-2.475264</td>\n",
              "      <td>-1.811490</td>\n",
              "      <td>-1.177953</td>\n",
              "    </tr>\n",
              "    <tr>\n",
              "      <th>25%</th>\n",
              "      <td>0.318472</td>\n",
              "      <td>-0.774809</td>\n",
              "      <td>-0.884167</td>\n",
              "      <td>-0.900594</td>\n",
              "    </tr>\n",
              "    <tr>\n",
              "      <th>50%</th>\n",
              "      <td>0.594576</td>\n",
              "      <td>0.088663</td>\n",
              "      <td>-0.665616</td>\n",
              "      <td>-0.690525</td>\n",
              "    </tr>\n",
              "    <tr>\n",
              "      <th>75%</th>\n",
              "      <td>0.819976</td>\n",
              "      <td>0.788458</td>\n",
              "      <td>0.285016</td>\n",
              "      <td>0.018881</td>\n",
              "    </tr>\n",
              "    <tr>\n",
              "      <th>max</th>\n",
              "      <td>1.072682</td>\n",
              "      <td>1.071781</td>\n",
              "      <td>1.091348</td>\n",
              "      <td>0.401310</td>\n",
              "    </tr>\n",
              "  </tbody>\n",
              "</table>\n",
              "</div>\n",
              "    <div class=\"colab-df-buttons\">\n",
              "\n",
              "  <div class=\"colab-df-container\">\n",
              "    <button class=\"colab-df-convert\" onclick=\"convertToInteractive('df-4f8556bd-5c04-482d-af10-01546fde2fb8')\"\n",
              "            title=\"Convert this dataframe to an interactive table.\"\n",
              "            style=\"display:none;\">\n",
              "\n",
              "  <svg xmlns=\"http://www.w3.org/2000/svg\" height=\"24px\" viewBox=\"0 -960 960 960\">\n",
              "    <path d=\"M120-120v-720h720v720H120Zm60-500h600v-160H180v160Zm220 220h160v-160H400v160Zm0 220h160v-160H400v160ZM180-400h160v-160H180v160Zm440 0h160v-160H620v160ZM180-180h160v-160H180v160Zm440 0h160v-160H620v160Z\"/>\n",
              "  </svg>\n",
              "    </button>\n",
              "\n",
              "  <style>\n",
              "    .colab-df-container {\n",
              "      display:flex;\n",
              "      gap: 12px;\n",
              "    }\n",
              "\n",
              "    .colab-df-convert {\n",
              "      background-color: #E8F0FE;\n",
              "      border: none;\n",
              "      border-radius: 50%;\n",
              "      cursor: pointer;\n",
              "      display: none;\n",
              "      fill: #1967D2;\n",
              "      height: 32px;\n",
              "      padding: 0 0 0 0;\n",
              "      width: 32px;\n",
              "    }\n",
              "\n",
              "    .colab-df-convert:hover {\n",
              "      background-color: #E2EBFA;\n",
              "      box-shadow: 0px 1px 2px rgba(60, 64, 67, 0.3), 0px 1px 3px 1px rgba(60, 64, 67, 0.15);\n",
              "      fill: #174EA6;\n",
              "    }\n",
              "\n",
              "    .colab-df-buttons div {\n",
              "      margin-bottom: 4px;\n",
              "    }\n",
              "\n",
              "    [theme=dark] .colab-df-convert {\n",
              "      background-color: #3B4455;\n",
              "      fill: #D2E3FC;\n",
              "    }\n",
              "\n",
              "    [theme=dark] .colab-df-convert:hover {\n",
              "      background-color: #434B5C;\n",
              "      box-shadow: 0px 1px 3px 1px rgba(0, 0, 0, 0.15);\n",
              "      filter: drop-shadow(0px 1px 2px rgba(0, 0, 0, 0.3));\n",
              "      fill: #FFFFFF;\n",
              "    }\n",
              "  </style>\n",
              "\n",
              "    <script>\n",
              "      const buttonEl =\n",
              "        document.querySelector('#df-4f8556bd-5c04-482d-af10-01546fde2fb8 button.colab-df-convert');\n",
              "      buttonEl.style.display =\n",
              "        google.colab.kernel.accessAllowed ? 'block' : 'none';\n",
              "\n",
              "      async function convertToInteractive(key) {\n",
              "        const element = document.querySelector('#df-4f8556bd-5c04-482d-af10-01546fde2fb8');\n",
              "        const dataTable =\n",
              "          await google.colab.kernel.invokeFunction('convertToInteractive',\n",
              "                                                    [key], {});\n",
              "        if (!dataTable) return;\n",
              "\n",
              "        const docLinkHtml = 'Like what you see? Visit the ' +\n",
              "          '<a target=\"_blank\" href=https://colab.research.google.com/notebooks/data_table.ipynb>data table notebook</a>'\n",
              "          + ' to learn more about interactive tables.';\n",
              "        element.innerHTML = '';\n",
              "        dataTable['output_type'] = 'display_data';\n",
              "        await google.colab.output.renderOutput(dataTable, element);\n",
              "        const docLink = document.createElement('div');\n",
              "        docLink.innerHTML = docLinkHtml;\n",
              "        element.appendChild(docLink);\n",
              "      }\n",
              "    </script>\n",
              "  </div>\n",
              "\n",
              "\n",
              "<div id=\"df-acdd7a36-1e26-45f8-875c-7458d2f4900c\">\n",
              "  <button class=\"colab-df-quickchart\" onclick=\"quickchart('df-acdd7a36-1e26-45f8-875c-7458d2f4900c')\"\n",
              "            title=\"Suggest charts\"\n",
              "            style=\"display:none;\">\n",
              "\n",
              "<svg xmlns=\"http://www.w3.org/2000/svg\" height=\"24px\"viewBox=\"0 0 24 24\"\n",
              "     width=\"24px\">\n",
              "    <g>\n",
              "        <path d=\"M19 3H5c-1.1 0-2 .9-2 2v14c0 1.1.9 2 2 2h14c1.1 0 2-.9 2-2V5c0-1.1-.9-2-2-2zM9 17H7v-7h2v7zm4 0h-2V7h2v10zm4 0h-2v-4h2v4z\"/>\n",
              "    </g>\n",
              "</svg>\n",
              "  </button>\n",
              "\n",
              "<style>\n",
              "  .colab-df-quickchart {\n",
              "      --bg-color: #E8F0FE;\n",
              "      --fill-color: #1967D2;\n",
              "      --hover-bg-color: #E2EBFA;\n",
              "      --hover-fill-color: #174EA6;\n",
              "      --disabled-fill-color: #AAA;\n",
              "      --disabled-bg-color: #DDD;\n",
              "  }\n",
              "\n",
              "  [theme=dark] .colab-df-quickchart {\n",
              "      --bg-color: #3B4455;\n",
              "      --fill-color: #D2E3FC;\n",
              "      --hover-bg-color: #434B5C;\n",
              "      --hover-fill-color: #FFFFFF;\n",
              "      --disabled-bg-color: #3B4455;\n",
              "      --disabled-fill-color: #666;\n",
              "  }\n",
              "\n",
              "  .colab-df-quickchart {\n",
              "    background-color: var(--bg-color);\n",
              "    border: none;\n",
              "    border-radius: 50%;\n",
              "    cursor: pointer;\n",
              "    display: none;\n",
              "    fill: var(--fill-color);\n",
              "    height: 32px;\n",
              "    padding: 0;\n",
              "    width: 32px;\n",
              "  }\n",
              "\n",
              "  .colab-df-quickchart:hover {\n",
              "    background-color: var(--hover-bg-color);\n",
              "    box-shadow: 0 1px 2px rgba(60, 64, 67, 0.3), 0 1px 3px 1px rgba(60, 64, 67, 0.15);\n",
              "    fill: var(--button-hover-fill-color);\n",
              "  }\n",
              "\n",
              "  .colab-df-quickchart-complete:disabled,\n",
              "  .colab-df-quickchart-complete:disabled:hover {\n",
              "    background-color: var(--disabled-bg-color);\n",
              "    fill: var(--disabled-fill-color);\n",
              "    box-shadow: none;\n",
              "  }\n",
              "\n",
              "  .colab-df-spinner {\n",
              "    border: 2px solid var(--fill-color);\n",
              "    border-color: transparent;\n",
              "    border-bottom-color: var(--fill-color);\n",
              "    animation:\n",
              "      spin 1s steps(1) infinite;\n",
              "  }\n",
              "\n",
              "  @keyframes spin {\n",
              "    0% {\n",
              "      border-color: transparent;\n",
              "      border-bottom-color: var(--fill-color);\n",
              "      border-left-color: var(--fill-color);\n",
              "    }\n",
              "    20% {\n",
              "      border-color: transparent;\n",
              "      border-left-color: var(--fill-color);\n",
              "      border-top-color: var(--fill-color);\n",
              "    }\n",
              "    30% {\n",
              "      border-color: transparent;\n",
              "      border-left-color: var(--fill-color);\n",
              "      border-top-color: var(--fill-color);\n",
              "      border-right-color: var(--fill-color);\n",
              "    }\n",
              "    40% {\n",
              "      border-color: transparent;\n",
              "      border-right-color: var(--fill-color);\n",
              "      border-top-color: var(--fill-color);\n",
              "    }\n",
              "    60% {\n",
              "      border-color: transparent;\n",
              "      border-right-color: var(--fill-color);\n",
              "    }\n",
              "    80% {\n",
              "      border-color: transparent;\n",
              "      border-right-color: var(--fill-color);\n",
              "      border-bottom-color: var(--fill-color);\n",
              "    }\n",
              "    90% {\n",
              "      border-color: transparent;\n",
              "      border-bottom-color: var(--fill-color);\n",
              "    }\n",
              "  }\n",
              "</style>\n",
              "\n",
              "  <script>\n",
              "    async function quickchart(key) {\n",
              "      const quickchartButtonEl =\n",
              "        document.querySelector('#' + key + ' button');\n",
              "      quickchartButtonEl.disabled = true;  // To prevent multiple clicks.\n",
              "      quickchartButtonEl.classList.add('colab-df-spinner');\n",
              "      try {\n",
              "        const charts = await google.colab.kernel.invokeFunction(\n",
              "            'suggestCharts', [key], {});\n",
              "      } catch (error) {\n",
              "        console.error('Error during call to suggestCharts:', error);\n",
              "      }\n",
              "      quickchartButtonEl.classList.remove('colab-df-spinner');\n",
              "      quickchartButtonEl.classList.add('colab-df-quickchart-complete');\n",
              "    }\n",
              "    (() => {\n",
              "      let quickchartButtonEl =\n",
              "        document.querySelector('#df-acdd7a36-1e26-45f8-875c-7458d2f4900c button');\n",
              "      quickchartButtonEl.style.display =\n",
              "        google.colab.kernel.accessAllowed ? 'block' : 'none';\n",
              "    })();\n",
              "  </script>\n",
              "</div>\n",
              "\n",
              "    </div>\n",
              "  </div>\n"
            ],
            "application/vnd.google.colaboratory.intrinsic+json": {
              "type": "dataframe",
              "summary": "{\n  \"name\": \"df\",\n  \"rows\": 8,\n  \"fields\": [\n    {\n      \"column\": \"A\",\n      \"properties\": {\n        \"dtype\": \"number\",\n        \"std\": 1.97572055647155,\n        \"min\": -0.2077607869386942,\n        \"max\": 6.0,\n        \"num_unique_values\": 8,\n        \"samples\": [\n          0.5292700350310534,\n          0.5945763159092233,\n          6.0\n        ],\n        \"semantic_type\": \"\",\n        \"description\": \"\"\n      }\n    },\n    {\n      \"column\": \"B\",\n      \"properties\": {\n        \"dtype\": \"number\",\n        \"std\": 2.452962601819581,\n        \"min\": -2.4752638581712425,\n        \"max\": 6.0,\n        \"num_unique_values\": 8,\n        \"samples\": [\n          -0.2111776572521619,\n          0.08866316182771095,\n          6.0\n        ],\n        \"semantic_type\": \"\",\n        \"description\": \"\"\n      }\n    },\n    {\n      \"column\": \"C\",\n      \"properties\": {\n        \"dtype\": \"number\",\n        \"std\": 2.400194135289985,\n        \"min\": -1.811489893860522,\n        \"max\": 6.0,\n        \"num_unique_values\": 8,\n        \"samples\": [\n          -0.401083029985456,\n          -0.6656160779685283,\n          6.0\n        ],\n        \"semantic_type\": \"\",\n        \"description\": \"\"\n      }\n    },\n    {\n      \"column\": \"D\",\n      \"properties\": {\n        \"dtype\": \"number\",\n        \"std\": 2.31947457373916,\n        \"min\": -1.177952543941397,\n        \"max\": 6.0,\n        \"num_unique_values\": 8,\n        \"samples\": [\n          -0.47882648145327744,\n          -0.6905250697776344,\n          6.0\n        ],\n        \"semantic_type\": \"\",\n        \"description\": \"\"\n      }\n    }\n  ]\n}"
            }
          },
          "metadata": {},
          "execution_count": 25
        }
      ]
    },
    {
      "cell_type": "code",
      "source": [
        "# prompt: #Matplotlib\n",
        "\n",
        "import matplotlib.pyplot as plt\n",
        "\n",
        "# Create a simple line plot\n",
        "x = range(10)\n",
        "y = [i**2 for i in x]\n",
        "plt.plot(x, y)\n",
        "plt.xlabel('X Axis')\n",
        "plt.ylabel('Y Axis')\n",
        "plt.title('Simple Line Plot')\n",
        "plt.show()\n",
        "\n",
        "# Create a scatter plot\n",
        "x = np.random.rand(10)\n",
        "y = np.random.rand(10)\n",
        "plt.scatter(x, y)\n",
        "plt.xlabel('X Axis')\n",
        "plt.ylabel('Y Axis')\n",
        "plt.title('Scatter Plot')\n",
        "plt.show()\n",
        "\n",
        "# Create a bar plot\n",
        "x = ['A', 'B', 'C', 'D', 'E']\n",
        "y = [10, 20, 30, 40, 50]\n",
        "plt.bar(x, y)\n",
        "plt.xlabel('X Axis')\n",
        "plt.ylabel('Y Axis')\n",
        "plt.title('Bar Plot')\n",
        "plt.show()\n",
        "\n",
        "# Create a histogram\n",
        "x = np.random.randn(100)\n",
        "plt.hist(x)\n",
        "plt.xlabel('X Axis')\n",
        "plt.ylabel('Y Axis')\n",
        "plt.title('Histogram')\n",
        "plt.show()\n",
        "\n",
        "# Create a pie chart\n",
        "labels = ['A', 'B', 'C', 'D']\n",
        "sizes = [10, 20, 30, 40]\n",
        "plt.pie(sizes, labels=labels, autopct='%1.1f%%')\n",
        "plt.title('Pie Chart')\n",
        "plt.show()\n"
      ],
      "metadata": {
        "colab": {
          "base_uri": "https://localhost:8080/",
          "height": 1000
        },
        "id": "c21bG5T97C-Q",
        "outputId": "e7bb8fb3-87e0-4c94-ddb8-cf6c25acff72"
      },
      "execution_count": 26,
      "outputs": [
        {
          "output_type": "display_data",
          "data": {
            "text/plain": [
              "<Figure size 640x480 with 1 Axes>"
            ],
            "image/png": "[encoded data removed]"
          },
          "metadata": {}
        },
        {
          "output_type": "display_data",
          "data": {
            "text/plain": [
              "<Figure size 640x480 with 1 Axes>"
            ],
            "image/png": "[encoded data removed]"
          },
          "metadata": {}
        },
        {
          "output_type": "display_data",
          "data": {
            "text/plain": [
              "<Figure size 640x480 with 1 Axes>"
            ],
            "image/png": "[encoded data removed]"
          },
          "metadata": {}
        },
        {
          "output_type": "display_data",
          "data": {
            "text/plain": [
              "<Figure size 640x480 with 1 Axes>"
            ],
            "image/png": "[encoded data removed]"
          },
          "metadata": {}
        },
        {
          "output_type": "display_data",
          "data": {
            "text/plain": [
              "<Figure size 640x480 with 1 Axes>"
            ],
            "image/png": "[encoded data removed]"
          },
          "metadata": {}
        }
      ]
    },
    {
      "cell_type": "code",
      "source": [
        "import numpy as np\n",
        "import matplotlib.pyplot as plt\n",
        "np.random.seed(10)\n",
        "x = np.random.rand(10)\n",
        "y = np.random.rand(10)\n",
        "plt.scatter(x, y)\n",
        "plt.xlabel('X Axis')\n",
        "plt.ylabel('Y Axis')\n",
        "plt.title('Scatter Plot')\n",
        "plt.show()\n",
        "\n",
        "\n",
        "\n",
        "\n"
      ],
      "metadata": {
        "colab": {
          "base_uri": "https://localhost:8080/",
          "height": 472
        },
        "id": "hiG3hUrr7hpg",
        "outputId": "2d8a446a-79dd-42a6-b193-1fe29f6b7192"
      },
      "execution_count": 31,
      "outputs": [
        {
          "output_type": "display_data",
          "data": {
            "text/plain": [
              "<Figure size 640x480 with 1 Axes>"
            ],
            "image/png": "[encoded data removed]"
          },
          "metadata": {}
        }
      ]
    },
    {
      "cell_type": "code",
      "source": [
        "import numpy as np\n",
        "import matplotlib.pyplot as plt\n",
        "%matplotlib inline\n",
        "N = 100\n",
        "x = np.random.rand(N)\n",
        "y = np.random.rand(N)\n",
        "colors = np.random.rand(N)\n",
        "area = np.pi * (15 * np.random.rand(N))"
      ],
      "metadata": {
        "id": "a2Rdu4yv80ac"
      },
      "execution_count": 36,
      "outputs": []
    },
    {
      "cell_type": "code",
      "source": [
        "\n",
        "import numpy as np\n",
        "import matplotlib.pyplot as plt\n",
        "\n",
        "%matplotlib inline\n",
        "N = 100\n",
        "x = np.random.rand(N)\n",
        "y = np.random.rand(N)\n",
        "colors = np.random.rand(N)\n",
        "area = np.pi * (15 * np.random.rand(N))\n",
        "\n",
        "plt.scatter(x, y, s=area, c=colors, alpha=0.5)\n",
        "plt.show()\n"
      ],
      "metadata": {
        "colab": {
          "base_uri": "https://localhost:8080/",
          "height": 430
        },
        "id": "8XiFNLoG83pD",
        "outputId": "a3262bb4-68dc-4d46-bfdc-7691cbd1e518"
      },
      "execution_count": 37,
      "outputs": [
        {
          "output_type": "display_data",
          "data": {
            "text/plain": [
              "<Figure size 640x480 with 1 Axes>"
            ],
            "image/png": "[encoded data removed]"
          },
          "metadata": {}
        }
      ]
    },
    {
      "cell_type": "code",
      "source": [],
      "metadata": {
        "id": "H9OwXxql9kog"
      },
      "execution_count": null,
      "outputs": []
    }
  ]
}