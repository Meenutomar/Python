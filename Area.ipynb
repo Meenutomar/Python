{
  "nbformat": 4,
  "nbformat_minor": 0,
  "metadata": {
    "colab": {
      "provenance": [],
      "authorship_tag": "ABX9TyMCYjV4ncQ6U9rMCjrjPGtP",
      "include_colab_link": true
    },
    "kernelspec": {
      "name": "python3",
      "display_name": "Python 3"
    },
    "language_info": {
      "name": "python"
    }
  },
  "cells": [
    {
      "cell_type": "markdown",
      "metadata": {
        "id": "view-in-github",
        "colab_type": "text"
      },
      "source": [
        "<a href=\"https://colab.research.google.com/github/Meenutomar/Python/blob/main/Area.ipynb\" target=\"_parent\"><img src=\"https://colab.research.google.com/assets/colab-badge.svg\" alt=\"Open In Colab\"/></a>"
      ]
    },
    {
      "cell_type": "code",
      "execution_count": 2,
      "metadata": {
        "colab": {
          "base_uri": "https://localhost:8080/"
        },
        "id": "I4NdF1grX1bF",
        "outputId": "8fd9c7e5-5baf-4204-a100-67048138d73c"
      },
      "outputs": [
        {
          "output_type": "stream",
          "name": "stdout",
          "text": [
            "enter the number: 5\n",
            "120\n"
          ]
        }
      ],
      "source": [
        "import math\n",
        "n = int(input(\"enter the number: \"))\n",
        "print(math.factorial(n))\n",
        "\n"
      ]
    },
    {
      "cell_type": "code",
      "source": [
        "class Area:\n",
        "    def __init__(self, length,b,h):\n",
        "        self.length = length\n",
        "        self.b = b\n",
        "        self.h = h\n",
        "\n",
        "    def Ract_area(self):\n",
        "        print(self.b * self.h)\n",
        "\n",
        "    def triangle(self):\n",
        "        print(0.5 * self.b * self.h)\n",
        "\n",
        "    def square(self12):\n",
        "        print(\"area of square \",a * a)\n",
        "\n",
        "l = int(input(\"Enter l :\"))\n",
        "b = int(input(\"Enter b :\"))\n",
        "h = int(input(\"Enter h :\"))\n",
        "a = int(input(\"Enter a :\"))\n",
        "\n",
        "M = Area(l,b,h)\n",
        "M.triangle()\n",
        "M.Ract_area()\n",
        "M.square()\n",
        "\n",
        "\n",
        "\n",
        "\n",
        "\n",
        "\n",
        "\n",
        ""
      ],
      "metadata": {
        "colab": {
          "base_uri": "https://localhost:8080/"
        },
        "id": "bi4-H6EtbfRR",
        "outputId": "236a6c56-f81c-497c-bb76-20d9e48879ce"
      },
      "execution_count": 7,
      "outputs": [
        {
          "output_type": "stream",
          "name": "stdout",
          "text": [
            "Enter l :12\n",
            "Enter b :12\n",
            "Enter h :12\n",
            "Enter a :3\n",
            "72.0\n",
            "144\n",
            "9\n"
          ]
        }
      ]
    }
  ]
}