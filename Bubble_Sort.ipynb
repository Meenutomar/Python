{
  "nbformat": 4,
  "nbformat_minor": 0,
  "metadata": {
    "colab": {
      "provenance": [],
      "authorship_tag": "ABX9TyPgJTj6H/oh8a9Ct0uOVXLI",
      "include_colab_link": true
    },
    "kernelspec": {
      "name": "python3",
      "display_name": "Python 3"
    },
    "language_info": {
      "name": "python"
    }
  },
  "cells": [
    {
      "cell_type": "markdown",
      "metadata": {
        "id": "view-in-github",
        "colab_type": "text"
      },
      "source": [
        "<a href=\"https://colab.research.google.com/github/Meenutomar/Python/blob/main/Bubble_Sort.ipynb\" target=\"_parent\"><img src=\"https://colab.research.google.com/assets/colab-badge.svg\" alt=\"Open In Colab\"/></a>"
      ]
    },
    {
      "cell_type": "code",
      "source": [
        "def bubble_sort(arr):\n",
        "  a = len(arr)\n",
        "  for i in range(a-1):\n",
        "    for j in range(0, a-i-1):\n",
        "      if arr[j] > arr[j+1]:\n",
        "        arr[j], arr[j+1] = arr[j+1], arr[j]\n",
        "\n",
        "\n",
        "arr = input(\"enter number: \")\n",
        "\n",
        "arr = arr.split()\n",
        "\n",
        "\n",
        "bubble_sort(arr)\n",
        "print(arr)"
      ],
      "metadata": {
        "colab": {
          "base_uri": "https://localhost:8080/"
        },
        "id": "zA2gToQiJXav",
        "outputId": "871dbf3c-aa7c-42d7-b0cc-6510ca475f70"
      },
      "execution_count": null,
      "outputs": [
        {
          "output_type": "stream",
          "name": "stdout",
          "text": [
            "enter number: 3 5 3 4 6 9 8 7 0\n",
            "['0', '3', '3', '4', '5', '6', '7', '8', '9']\n"
          ]
        }
      ]
    },
    {
      "cell_type": "code",
      "source": [
        "def bubble_sort(arr):\n",
        "  a = len(arr)\n",
        "  for i in range(a-1):\n",
        "    for j in range(0, a-i-1):\n",
        "      if arr[j] > arr[j+1]:\n",
        "        arr[j], arr[j+1] = arr[j+1], arr[j]\n",
        "\n",
        "\n",
        "arr = input(\"enter number: \")\n",
        "\n",
        "arr = arr.split()\n",
        "\n",
        "\n",
        "bubble_sort(arr)\n",
        "print(arr)"
      ],
      "metadata": {
        "colab": {
          "base_uri": "https://localhost:8080/"
        },
        "id": "b6d1k_5NT9dx",
        "outputId": "cc84962a-6ad1-4e4f-deff-de3f7e2382ca"
      },
      "execution_count": null,
      "outputs": [
        {
          "output_type": "stream",
          "name": "stdout",
          "text": [
            "enter number: 98 65 45 43 56 78 98\n",
            "['43', '45', '56', '65', '78', '98', '98']\n"
          ]
        }
      ]
    },
    {
      "cell_type": "code",
      "source": [],
      "metadata": {
        "id": "NDq4T7hHUmK0"
      },
      "execution_count": null,
      "outputs": []
    }
  ]
}